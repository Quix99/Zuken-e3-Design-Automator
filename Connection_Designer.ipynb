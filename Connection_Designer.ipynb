{
 "cells": [
  {
   "cell_type": "code",
   "execution_count": 1,
   "id": "2e0e50db",
   "metadata": {},
   "outputs": [
    {
     "name": "stdout",
     "output_type": "stream",
     "text": [
      "hi\n"
     ]
    }
   ],
   "source": [
    "import win32com.client as win32\n",
    "import os\n",
    "#zuken = win32.dynamic.Dispatch('CT.Application')\n",
    "zuken = win32.gencache.EnsureDispatch('CT.Application')\n",
    "job=zuken.CreateJobObject()\n",
    "\n",
    "path = \"C:/zuken_on_steroids/zuken-automator/zuken_devices/\"\n",
    "xpos = 100#100 200 300 400\n",
    "ypos = 100 #150\n",
    "files = os.listdir(path)\n",
    "sheet = job.CreateSheetObject()\n",
    "sheetIds = []\n",
    "result = job.GetSheetIds(sheetIds)\n",
    "sheet.SetId(result[1][-1]) \n",
    "#item =files[13]\n",
    "#result = sheet.PlacePartEx(path+item, 1, 4,xpos,ypos,0.0 )\n",
    "result = sheet.PlacePartEx(path+\"FUNCTIONAL_GROUP_2 Pump.e3p\", 1, 4,xpos,ypos,0.0 )\n",
    "print(\"hi\")\n",
    "#print(item)"
   ]
  },
  {
   "cell_type": "code",
   "execution_count": 23,
   "id": "9f1dd6d3",
   "metadata": {},
   "outputs": [
    {
     "name": "stdout",
     "output_type": "stream",
     "text": [
      "(1, (None, 1473528))\n"
     ]
    }
   ],
   "source": [
    "import win32com.client as win32\n",
    "import os\n",
    "#zuken = win32.dynamic.Dispatch('CT.Application')\n",
    "zuken = win32.gencache.EnsureDispatch('CT.Application')\n",
    "job=zuken.CreateJobObject()\n",
    "connection = job.CreateConnectionObject()\n",
    "xOffset=6.1\n",
    "yOffset=13.2\n",
    "#[31,45.087]\n",
    "#[15,-8.913]\n",
    "#                                        \"CON 1 xPos\": 449.1,\n",
    "#                                        \"CON 1 yPos\": 282.1,\n",
    "#                                        \"CON 2 xPos\": 326,\n",
    "#                                        \"CON 2 yPos\": 282.1\n",
    "\n",
    "\n",
    "\n",
    "xPos = [0,xpos+xOffset,xpos+xOffset]\n",
    "yPos = [0,ypos+yOffset,ypos+yOffset+10]\n",
    "#xPos = [0,449,326]\n",
    "#yPos = [0,282.1,400]\n",
    "\n",
    "pt = [0,0,0,0,0]\n",
    "\n",
    "sheetId = job.GetActiveSheetId()\n",
    "#sheet.SetId(sheetId)\n",
    "\n",
    "netSegments=[]\n",
    "result3 = connection.CreateConnection( 0, sheetId, 2, xPos, yPos, netSegments, pt )\n",
    "#result3 = connection.CreateConnectionBetweenPoints( sheetId,xPos[1], yPos[1]+10, xPos[2], yPos[2],0)\n",
    "\n",
    "#                                        \"CON 1 xPos\": 119,\n",
    "#                                        \"CON 1 yPos\": 90.94,\n",
    "#                                        \"CON 2 xPos\": 119,\n",
    "#                                        \"CON 2 yPos\": 87\n",
    "xPos = [0,119.05,119.05]\n",
    "yPos = [0,90.939,87]\n",
    "#result3 = connection.CreateConnection( 0, sheetId, 2, xPos, yPos, netSegments, pt )\n",
    "#result3 = connection.CreateConnectionBetweenPoints( sheetId,xPos[1], yPos[1], xPos[2], yPos[2],0)\n",
    "print(result3)\n",
    "\n",
    "netseg=job.CreateNetSegmentObject()\n",
    "net=job.CreateNetObject()"
   ]
  }
 ],
 "metadata": {
  "kernelspec": {
   "display_name": "Python 3",
   "language": "python",
   "name": "python3"
  },
  "language_info": {
   "codemirror_mode": {
    "name": "ipython",
    "version": 3
   },
   "file_extension": ".py",
   "mimetype": "text/x-python",
   "name": "python",
   "nbconvert_exporter": "python",
   "pygments_lexer": "ipython3",
   "version": "3.11.9"
  }
 },
 "nbformat": 4,
 "nbformat_minor": 5
}
